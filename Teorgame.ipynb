{
 "cells": [
  {
   "cell_type": "code",
   "execution_count": 2,
   "metadata": {},
   "outputs": [],
   "source": [
    "import numpy as np\n",
    "import csv"
   ]
  },
  {
   "cell_type": "markdown",
   "metadata": {},
   "source": [
    "Reading data from csv"
   ]
  },
  {
   "cell_type": "code",
   "execution_count": 5,
   "metadata": {},
   "outputs": [
    {
     "name": "stdout",
     "output_type": "stream",
     "text": [
      "[['min', '1', '4', '1'], ['6', '2', '=', '5'], ['8', '6', '>=', '7'], ['2', '4', '<=', '3'], ['1', '2', '>=', '0']]\n"
     ]
    }
   ],
   "source": [
    "arr = []\n",
    "with open('task.csv') as csv_file:\n",
    "    csv_reader = csv.reader(csv_file, delimiter=',')\n",
    "    for row in csv_reader:\n",
    "        arr.append(row)\n",
    "print(arr)"
   ]
  },
  {
   "cell_type": "markdown",
   "metadata": {},
   "source": [
    "Data preprocession \n",
    "\n",
    "Input must consist of 0 in empty spots"
   ]
  },
  {
   "cell_type": "code",
   "execution_count": 133,
   "metadata": {},
   "outputs": [
    {
     "name": "stdout",
     "output_type": "stream",
     "text": [
      "[[-14.  -8.   1.   0.   0.   0. -12.]\n",
      " [  4.   1.   0.   0.   0.   0.   0.]\n",
      " [  6.   2.   0.   0.   1.   0.   5.]\n",
      " [  8.   6.  -1.   0.   0.   1.   7.]\n",
      " [  2.   4.   0.   1.   0.   0.   3.]]\n"
     ]
    }
   ],
   "source": [
    "matrix = []\n",
    "temp = []\n",
    "n=0\n",
    "if arr[0][0] == \"min\":\n",
    "    temp.append(int(arr[0][1]) * -1)\n",
    "    for i in range(2,len(arr[0])):\n",
    "        temp.append(int(arr[0][i]))\n",
    "        n+=1\n",
    "else:\n",
    "    temp.append(int(arr[0][1]))\n",
    "    for i in range(2,len(arr[0])):\n",
    "        temp.append(int(arr[0][i])*-1)\n",
    "        n+=1\n",
    "matrix.append(temp)\n",
    "matrix = np.array(matrix)\n",
    "temp = []\n",
    "for i in range(1,len(arr)-1):\n",
    "    temp2 = []\n",
    "    for j in range(len(arr[i])):\n",
    "        if (arr[i][j] != \"<=\") and (arr[i][j] != \">=\") and (arr[i][j]!=\"=\"):\n",
    "            temp2.append(int(arr[i][j]))\n",
    "    temp.append(temp2)\n",
    "temp = np.array(temp)\n",
    "\n",
    "for i in range(len(temp)):    \n",
    "    matrix = np.vstack((matrix, temp[i]))\n",
    "\n",
    "#checking bi to be > 0\n",
    "for i in range(1, len(temp)):\n",
    "    if matrix[i][-1]<0:\n",
    "        for j in range(len[i]):\n",
    "            matrix[i][j] *= -1\n",
    "#todo: add cases when x<=0 to the last string\n",
    "\n",
    "for i in range(1,len(arr)-1):\n",
    "    for j in range(len(arr[i])):\n",
    "        if (arr[i][j] == \"<=\"):\n",
    "            matrix = np.hstack((matrix, np.zeros((matrix.shape[0], 1), dtype=matrix.dtype)))\n",
    "            matrix[i][-1]=1 \n",
    "            matrix[1:,[-2, -1]] = matrix[1:,[-1, -2]]\n",
    "        elif (arr[i][j] == \">=\"):\n",
    "            matrix = np.hstack((matrix, np.zeros((matrix.shape[0], 1), dtype=matrix.dtype)))\n",
    "            matrix[i][-1]=-1\n",
    "            matrix[1:,[-2, -1]] = matrix[1:,[-1, -2]]\n",
    "\n",
    "for i in range(n):\n",
    "    matrix = np.hstack((matrix, np.zeros((matrix.shape[0], 1), dtype=matrix.dtype)))\n",
    "    matrix[i+1][-1]=1\n",
    "    matrix[1:,[-2, -1]] = matrix[1:,[-1, -2]]\n",
    "\n",
    "R = np.zeros(len(matrix[0]))\n",
    "\n",
    "for i in range(1,n+1):\n",
    "    R -= np.append(matrix[i][:-n-1],(np.append(np.zeros(n, dtype=matrix.dtype), matrix[i][-1])))\n",
    "matrix = matrix.astype('float64')\n",
    "\n",
    "R = np.array([R])\n",
    "first_row = matrix[0]\n",
    "z = first_row[0]\n",
    "first_row[0] = 0\n",
    "first_row = np.roll(first_row, -1)\n",
    "\n",
    "matrix = np.delete(matrix, 0, 0)\n",
    "matrix = np.vstack((first_row, matrix))\n",
    "\n",
    "for i in range(len(matrix)):    \n",
    "    R = np.vstack((R, np.array([matrix[i]])))  \n",
    "matrix = R\n",
    "print(matrix)"
   ]
  },
  {
   "cell_type": "code",
   "execution_count": 135,
   "metadata": {},
   "outputs": [
    {
     "name": "stdout",
     "output_type": "stream",
     "text": [
      "-14.0\n"
     ]
    }
   ],
   "source": [
    "smallest_r = min (matrix[0][:-1])\n",
    "print(smallest_r)\n",
    "while smallest_r < 0:\n",
    "    "
   ]
  }
 ],
 "metadata": {
  "kernelspec": {
   "display_name": "Python 3",
   "language": "python",
   "name": "python3"
  },
  "language_info": {
   "codemirror_mode": {
    "name": "ipython",
    "version": 3
   },
   "file_extension": ".py",
   "mimetype": "text/x-python",
   "name": "python",
   "nbconvert_exporter": "python",
   "pygments_lexer": "ipython3",
   "version": "3.6.9"
  }
 },
 "nbformat": 4,
 "nbformat_minor": 2
}
